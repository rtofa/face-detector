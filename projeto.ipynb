{
 "cells": [
  {
   "cell_type": "code",
   "execution_count": 12,
   "metadata": {},
   "outputs": [
    {
     "name": "stdout",
     "output_type": "stream",
     "text": [
      "Requirement already satisfied: opencv-python==4.6.0.66 in c:\\users\\ryant\\appdata\\local\\programs\\python\\python310\\lib\\site-packages (4.6.0.66)\n",
      "Requirement already satisfied: numpy>=1.17.3 in c:\\users\\ryant\\appdata\\local\\programs\\python\\python310\\lib\\site-packages (from opencv-python==4.6.0.66) (1.26.4)\n"
     ]
    },
    {
     "name": "stderr",
     "output_type": "stream",
     "text": [
      "WARNING: You are using pip version 22.0.4; however, version 24.0 is available.\n",
      "You should consider upgrading via the 'C:\\Users\\ryant\\AppData\\Local\\Programs\\Python\\Python310\\python.exe -m pip install --upgrade pip' command.\n"
     ]
    },
    {
     "name": "stdout",
     "output_type": "stream",
     "text": [
      "Requirement already satisfied: mediapipe==0.8.11 in c:\\users\\ryant\\appdata\\local\\programs\\python\\python310\\lib\\site-packages (0.8.11)\n",
      "Requirement already satisfied: absl-py in c:\\users\\ryant\\appdata\\local\\programs\\python\\python310\\lib\\site-packages (from mediapipe==0.8.11) (2.1.0)\n",
      "Requirement already satisfied: opencv-contrib-python in c:\\users\\ryant\\appdata\\local\\programs\\python\\python310\\lib\\site-packages (from mediapipe==0.8.11) (4.9.0.80)\n",
      "Requirement already satisfied: numpy in c:\\users\\ryant\\appdata\\local\\programs\\python\\python310\\lib\\site-packages (from mediapipe==0.8.11) (1.26.4)\n",
      "Requirement already satisfied: protobuf<4,>=3.11 in c:\\users\\ryant\\appdata\\local\\programs\\python\\python310\\lib\\site-packages (from mediapipe==0.8.11) (3.20.3)\n",
      "Requirement already satisfied: matplotlib in c:\\users\\ryant\\appdata\\local\\programs\\python\\python310\\lib\\site-packages (from mediapipe==0.8.11) (3.8.4)\n",
      "Requirement already satisfied: attrs>=19.1.0 in c:\\users\\ryant\\appdata\\local\\programs\\python\\python310\\lib\\site-packages (from mediapipe==0.8.11) (23.2.0)\n",
      "Requirement already satisfied: packaging>=20.0 in c:\\users\\ryant\\appdata\\roaming\\python\\python310\\site-packages (from matplotlib->mediapipe==0.8.11) (24.0)\n",
      "Requirement already satisfied: kiwisolver>=1.3.1 in c:\\users\\ryant\\appdata\\local\\programs\\python\\python310\\lib\\site-packages (from matplotlib->mediapipe==0.8.11) (1.4.5)\n",
      "Requirement already satisfied: pyparsing>=2.3.1 in c:\\users\\ryant\\appdata\\local\\programs\\python\\python310\\lib\\site-packages (from matplotlib->mediapipe==0.8.11) (3.1.2)\n",
      "Requirement already satisfied: fonttools>=4.22.0 in c:\\users\\ryant\\appdata\\local\\programs\\python\\python310\\lib\\site-packages (from matplotlib->mediapipe==0.8.11) (4.51.0)\n",
      "Requirement already satisfied: cycler>=0.10 in c:\\users\\ryant\\appdata\\local\\programs\\python\\python310\\lib\\site-packages (from matplotlib->mediapipe==0.8.11) (0.12.1)\n",
      "Requirement already satisfied: python-dateutil>=2.7 in c:\\users\\ryant\\appdata\\roaming\\python\\python310\\site-packages (from matplotlib->mediapipe==0.8.11) (2.9.0.post0)\n",
      "Requirement already satisfied: pillow>=8 in c:\\users\\ryant\\appdata\\local\\programs\\python\\python310\\lib\\site-packages (from matplotlib->mediapipe==0.8.11) (10.3.0)\n",
      "Requirement already satisfied: contourpy>=1.0.1 in c:\\users\\ryant\\appdata\\local\\programs\\python\\python310\\lib\\site-packages (from matplotlib->mediapipe==0.8.11) (1.2.1)\n",
      "Requirement already satisfied: six>=1.5 in c:\\users\\ryant\\appdata\\roaming\\python\\python310\\site-packages (from python-dateutil>=2.7->matplotlib->mediapipe==0.8.11) (1.16.0)\n"
     ]
    },
    {
     "name": "stderr",
     "output_type": "stream",
     "text": [
      "WARNING: You are using pip version 22.0.4; however, version 24.0 is available.\n",
      "You should consider upgrading via the 'C:\\Users\\ryant\\AppData\\Local\\Programs\\Python\\Python310\\python.exe -m pip install --upgrade pip' command.\n"
     ]
    },
    {
     "name": "stdout",
     "output_type": "stream",
     "text": [
      "Collecting numpy==1.22.3\n",
      "  Using cached numpy-1.22.3-cp310-cp310-win_amd64.whl (14.7 MB)\n",
      "Installing collected packages: numpy\n",
      "  Attempting uninstall: numpy\n",
      "    Found existing installation: numpy 1.26.4\n",
      "    Uninstalling numpy-1.26.4:\n",
      "      Successfully uninstalled numpy-1.26.4\n",
      "Successfully installed numpy-1.22.3\n"
     ]
    },
    {
     "name": "stderr",
     "output_type": "stream",
     "text": [
      "ERROR: pip's dependency resolver does not currently take into account all the packages that are installed. This behaviour is the source of the following dependency conflicts.\n",
      "pandas 2.2.2 requires numpy>=1.22.4; python_version < \"3.11\", but you have numpy 1.22.3 which is incompatible.\n",
      "WARNING: You are using pip version 22.0.4; however, version 24.0 is available.\n",
      "You should consider upgrading via the 'C:\\Users\\ryant\\AppData\\Local\\Programs\\Python\\Python310\\python.exe -m pip install --upgrade pip' command.\n"
     ]
    },
    {
     "name": "stdout",
     "output_type": "stream",
     "text": [
      "Requirement already satisfied: mysql-connector-python in c:\\users\\ryant\\appdata\\local\\programs\\python\\python310\\lib\\site-packages (8.3.0)\n"
     ]
    },
    {
     "name": "stderr",
     "output_type": "stream",
     "text": [
      "WARNING: You are using pip version 22.0.4; however, version 24.0 is available.\n",
      "You should consider upgrading via the 'C:\\Users\\ryant\\AppData\\Local\\Programs\\Python\\Python310\\python.exe -m pip install --upgrade pip' command.\n"
     ]
    },
    {
     "name": "stdout",
     "output_type": "stream",
     "text": [
      "Requirement already satisfied: pandas in c:\\users\\ryant\\appdata\\local\\programs\\python\\python310\\lib\\site-packages (2.2.2)\n",
      "Collecting numpy>=1.22.4\n",
      "  Using cached numpy-1.26.4-cp310-cp310-win_amd64.whl (15.8 MB)\n",
      "Requirement already satisfied: pytz>=2020.1 in c:\\users\\ryant\\appdata\\local\\programs\\python\\python310\\lib\\site-packages (from pandas) (2024.1)\n",
      "Requirement already satisfied: tzdata>=2022.7 in c:\\users\\ryant\\appdata\\local\\programs\\python\\python310\\lib\\site-packages (from pandas) (2024.1)\n",
      "Requirement already satisfied: python-dateutil>=2.8.2 in c:\\users\\ryant\\appdata\\roaming\\python\\python310\\site-packages (from pandas) (2.9.0.post0)\n",
      "Requirement already satisfied: six>=1.5 in c:\\users\\ryant\\appdata\\roaming\\python\\python310\\site-packages (from python-dateutil>=2.8.2->pandas) (1.16.0)\n",
      "Installing collected packages: numpy\n",
      "  Attempting uninstall: numpy\n",
      "    Found existing installation: numpy 1.22.3\n",
      "    Uninstalling numpy-1.22.3:\n",
      "      Successfully uninstalled numpy-1.22.3\n",
      "Successfully installed numpy-1.26.4\n"
     ]
    },
    {
     "name": "stderr",
     "output_type": "stream",
     "text": [
      "WARNING: You are using pip version 22.0.4; however, version 24.0 is available.\n",
      "You should consider upgrading via the 'C:\\Users\\ryant\\AppData\\Local\\Programs\\Python\\Python310\\python.exe -m pip install --upgrade pip' command.\n"
     ]
    }
   ],
   "source": [
    "!pip install opencv-python==4.6.0.66\n",
    "!pip install mediapipe==0.8.11\n",
    "!pip install numpy==1.22.3\n",
    "!pip install mysql-connector-python\n",
    "!pip install pandas"
   ]
  },
  {
   "cell_type": "code",
   "execution_count": 13,
   "metadata": {},
   "outputs": [],
   "source": [
    "#import mysql.connector\n",
    "#from mysql.connector import Error\n",
    "#import pandas as pd\n",
    "import cv2\n",
    "import mediapipe as mp\n"
   ]
  },
  {
   "cell_type": "code",
   "execution_count": 14,
   "metadata": {},
   "outputs": [],
   "source": [
    "mp_drawing = mp.solutions.drawing_utils\n",
    "mp_face_mesh = mp.solutions.face_mesh"
   ]
  },
  {
   "cell_type": "code",
   "execution_count": 15,
   "metadata": {},
   "outputs": [],
   "source": [
    "cap = cv2.VideoCapture(0)\n",
    "\n",
    "with mp_face_mesh.FaceMesh(min_detection_confidence=0.5, min_tracking_confidence=0.5) as face_mesh:\n",
    "    # Condição para verificar se a câmera foi aberta corretamente\n",
    "    while cap.isOpened():\n",
    "        sucesso, frame = cap.read()\n",
    "        if not sucesso:\n",
    "            print('Ignorando o frame vazio da camera') \n",
    "            continue\n",
    "        \n",
    "        # Mudando a cor do frame de BGR para RGB    \n",
    "        frame = cv2.cvtColor(frame, cv2.COLOR_BGR2RGB)\n",
    "        saida_facemesh = face_mesh.process(frame)\n",
    "        # Mudando a cor do frame de RGB para BGR\n",
    "        frame = cv2.cvtColor(frame, cv2.COLOR_RGB2BGR)\n",
    "\n",
    "        try:\n",
    "            # Verifica e desenha os pontos da face\n",
    "            for face_landmarks in saida_facemesh.multi_face_landmarks:\n",
    "                # Desenha os pontos que marcam a face\n",
    "                # Usar estas linha para ajustar os traços da face\n",
    "                mp_drawing.draw_landmarks(frame, face_landmarks, mp_face_mesh.FACEMESH_CONTOURS,\n",
    "                landmark_drawing_spec = mp_drawing.DrawingSpec(color=(232, 245, 24 ), thickness=1, circle_radius=1),\n",
    "                connection_drawing_spec = mp_drawing.DrawingSpec(color=(232, 245, 24 ), thickness=1, circle_radius=1))\n",
    "        except:\n",
    "            pass\n",
    "\n",
    "        cv2.imshow('Camera', frame)\n",
    "        # Espera por uma tecla para fechar a janela da câmera\n",
    "        if cv2.waitKey(10) & 0xFF == ord('c'):\n",
    "            break\n",
    "cap.release()\n",
    "cv2.destroyAllWindows()"
   ]
  },
  {
   "cell_type": "code",
   "execution_count": null,
   "metadata": {},
   "outputs": [],
   "source": []
  },
  {
   "cell_type": "code",
   "execution_count": null,
   "metadata": {},
   "outputs": [],
   "source": []
  }
 ],
 "metadata": {
  "kernelspec": {
   "display_name": "base",
   "language": "python",
   "name": "python3"
  },
  "language_info": {
   "codemirror_mode": {
    "name": "ipython",
    "version": 3
   },
   "file_extension": ".py",
   "mimetype": "text/x-python",
   "name": "python",
   "nbconvert_exporter": "python",
   "pygments_lexer": "ipython3",
   "version": "3.10.5"
  }
 },
 "nbformat": 4,
 "nbformat_minor": 2
}
